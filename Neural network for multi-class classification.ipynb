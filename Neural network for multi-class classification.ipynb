{
  "nbformat": 4,
  "nbformat_minor": 0,
  "metadata": {
    "colab": {
      "provenance": []
    },
    "kernelspec": {
      "name": "python3",
      "display_name": "Python 3"
    },
    "language_info": {
      "name": "python"
    }
  },
  "cells": [
    {
      "cell_type": "markdown",
      "source": [
        "**Create a simple neural network for multi-class classification**\n"
       
      ],
      "metadata": {
        "id": "VRDjLHEJ6SDM"
      }
    },
    {
      "cell_type": "markdown",
      "source": [
        
      ],
      "metadata": {
        "id": "pd2rxXBt7o9C"
      }
    },
    {
      "cell_type": "code",
      "execution_count": null,
      "metadata": {
        "id": "7Nv5GHiDvotB"
      },
      "outputs": [],
      "source": [
        "import numpy as np\n",
        "import tensorflow as tf\n",
        "import pandas as pd\n",
        "import matplotlib.pyplot as plt\n",
        "import pandas as pd\n",
        "from sklearn.model_selection import train_test_split\n",
        "from sklearn.preprocessing import scale, OneHotEncoder\n",
        "import numpy as np"
      ]
    },
    {
      "cell_type": "code",
      "metadata": {
        "id": "OTDITzWe5eeI"
      },
      "source": [
        "# Parameter Initialization\n",
        "def initialize_parameters(nx, nh1, nh2, ny):\n",
        "    tf.random.set_seed(1)  # Set random seed for reproducibility\n",
        "    W1 = tf.Variable(tf.random.normal(shape=(nh1, nx), stddev=0.01), name=\"W1\")\n",
        "    b1 = tf.Variable(tf.zeros(shape=(nh1, 1), name=\"b1\"))\n",
        "    W2 = tf.Variable(tf.random.normal(shape=(nh2, nh1), stddev=0.01), name=\"W2\")\n",
        "    b2 = tf.Variable(tf.zeros(shape=(nh2, 1), name=\"b2\"))\n",
        "    W3 = tf.Variable(tf.random.normal(shape=(ny, nh2), stddev=0.01), name=\"W3\")\n",
        "    b3 = tf.Variable(tf.zeros(shape=(ny, 1), name=\"b3\"))\n",
        "\n",
        "    parameters = {\"W1\": W1, \"b1\": b1, \"W2\": W2, \"b2\": b2, \"W3\": W3, \"b3\": b3}\n",
        "    return parameters"
      ],
      "execution_count": null,
      "outputs": []
    },
    {
      "cell_type": "code",
      "metadata": {
        "id": "SdGzSfm0-M1j"
      },
      "source": [
        "#Forward Pass:\n",
        "\n",
        "def forward_pass(parameters, X):\n",
        "    X = tf.cast(X, tf.float32)\n",
        "\n",
        "    Z1 = tf.matmul(parameters[\"W1\"], X) + parameters[\"b1\"]\n",
        "    A1 = tf.nn.relu(Z1)\n",
        "    Z2 = tf.matmul(parameters[\"W2\"], A1) + parameters[\"b2\"]\n",
        "    A2 = tf.nn.relu(Z2)\n",
        "    Z3 = tf.matmul(parameters[\"W3\"], A2) + parameters[\"b3\"]\n",
        "\n",
        "    # Apply softmax activation for multi-class classification\n",
        "    Yhat = tf.nn.softmax(Z3, axis=0)\n",
        "\n",
        "    return Yhat\n"
      ],
      "execution_count": null,
      "outputs": []
    },
    {
      "cell_type": "code",
      "metadata": {
        "id": "kuMxR7eU5eeX"
      },
      "source": [
        "#Loss calculations\n",
        "\n",
        "def compute_loss(Y, Yhat):\n",
        "    # Cross-entropy loss\n",
        "    #loss = -tf.reduce_mean(Y * tf.math.log(Yhat + 1e-10))\n",
        "    loss = -tf.reduce_mean(tf.reduce_sum(Y * tf.math.log(Yhat + 1e-10), axis=0))\n",
        "    return loss"
      ],
      "execution_count": null,
      "outputs": []
    },
    {
      "cell_type": "code",
      "source": [
        "#Backward Pass\n",
        "\n",
        "def backward_pass(parameters, loss, tape):\n",
        "    gradients = tape.gradient(loss, parameters.values())\n",
        "    return gradients"
      ],
      "metadata": {
        "id": "dovxDEGL-YYX"
      },
      "execution_count": null,
      "outputs": []
    },
    {
      "cell_type": "code",
      "source": [
        "#Gradient Descent To update the parameters\n",
        "\n",
        "def update_parameters(parameters, gradients, learning_rate):\n",
        "\n",
        "    for param, grad in zip(parameters.values(), gradients):\n",
        "        param.assign_sub(learning_rate * grad)\n",
        "\n",
        "    return parameters"
      ],
      "metadata": {
        "id": "SJ6GmUj4-et6"
      },
      "execution_count": null,
      "outputs": []
    },
    {
      "cell_type": "code",
      "metadata": {
        "id": "HNTD9QB95een"
      },
      "source": [
        "#Creating the Neural Network Model\n",
        "\n",
        "def create_nn_model(train_X, train_Y, val_X, val_Y, num_iterations, learning_rate, nh1, nh2):\n",
        "    nx, m = train_X.shape\n",
        "    ny = num_classes  # Number of output neurons for multi-class classification\n",
        "\n",
        "    parameters = initialize_parameters(nx, nh1, nh2, ny)\n",
        "\n",
        "    val_losses = []\n",
        "    train_losses = []\n",
        "\n",
        "    for i in range(num_iterations):\n",
        "        with tf.GradientTape() as tape:\n",
        "            train_Yhat = forward_pass(parameters, tf.convert_to_tensor(train_X, dtype=tf.float32))\n",
        "            train_loss = compute_loss(tf.convert_to_tensor(train_Y, dtype=tf.float32), train_Yhat)\n",
        "\n",
        "        val_Yhat = forward_pass(parameters, tf.convert_to_tensor(val_X, dtype=tf.float32))\n",
        "        val_loss = compute_loss(tf.convert_to_tensor(val_Y, dtype=tf.float32), val_Yhat)\n",
        "\n",
        "        print(\"iteration {}: train_loss:{} val_loss{}\".format(i, train_loss.numpy(), val_loss.numpy()))\n",
        "\n",
        "        train_losses.append(train_loss.numpy())\n",
        "        val_losses.append(val_loss.numpy())\n",
        "\n",
        "        gradients = backward_pass(parameters, train_loss, tape)\n",
        "        parameters = update_parameters(parameters, gradients, learning_rate)\n",
        "\n",
        "    history = {\"val_loss\": val_losses, \"train_loss\": train_losses}\n",
        "    return parameters, history\n"
      ],
      "execution_count": null,
      "outputs": []
    },
    {
      "cell_type": "markdown",
      "source": [
        
      ],
      "metadata": {
        "id": "8AGpFeUOP0qs"
      }
    },
    {
      "cell_type": "code",
      "source": [
        "import warnings\n",
        "warnings.filterwarnings('ignore')\n",
        "\n",
        "# Load the dataset\n",
        "file_path = \"German_digits.csv\"\n",
        "df = pd.read_csv(file_path)\n",
        "\n",
        "# Extract features (X) and labels (Y)\n",
        "X = df.iloc[:, :-1].values / 255.0  # Scale pixel values to the range [0, 1]\n",
        "Y = df.iloc[:, -1].values\n",
        "\n",
        "# Split the dataset into train and test\n",
        "train_X, test_X, train_Y, test_Y = train_test_split(X, Y, test_size=0.2, random_state=12)\n",
        "\n",
        "# One-hot encode the labels\n",
        "num_classes = 10  # Number of digits (0-9)\n",
        "train_Y = pd.get_dummies(train_Y).values\n",
        "test_Y = pd.get_dummies(test_Y).values\n",
        "\n",
        "# Transpose the datasets\n",
        "train_X = train_X.T\n",
        "train_Y = train_Y.T\n",
        "test_X = test_X.T\n",
        "test_Y = test_Y.T\n",
        "\n",
        "print(\"train_X\", train_X.shape)\n",
        "print(\"train_Y\", train_Y.shape)\n",
        "print(\"test_X\", test_X.shape)\n",
        "print(\"test_Y\", test_Y.shape)"
      ],
      "metadata": {
        "id": "sU6HPTsrP5tu",
        "colab": {
          "base_uri": "https://localhost:8080/"
        },
        "outputId": "53d43288-5d30-4006-e21d-ce3bf1e29610"
      },
      "execution_count": null,
      "outputs": [
        {
          "output_type": "stream",
          "name": "stdout",
          "text": [
            "train_X (1600, 3540)\n",
            "train_Y (10, 3540)\n",
            "test_X (1600, 886)\n",
            "test_Y (10, 886)\n"
          ]
        }
      ]
    },
    {
      "cell_type": "markdown",
      "source": [
        
      ],
      "metadata": {
        "id": "a0SpNzlCSQC0"
      }
    },
    {
      "cell_type": "markdown",
      "source": [
        "The model is not over fit. Validation loss not continueously decresaing, its very slowly getting decreased at each iterations.\n",
        "\n",
        "Training loss is not fluctuating, so this may not be an indication that the learning rate is too large.\n",
        "\n"
      ],
      "metadata": {
        "id": "75I8cqTtOLck"
      }
    },
    {
      "cell_type": "code",
      "source": [
        "# Set hyperparameters\n",
        "learning_rate = 0.01\n",
        "num_iterations = 50\n",
        "nh1 = 64\n",
        "nh2 = 8\n",
        "\n",
        "# Train the model\n",
        "parameters, history = create_nn_model(train_X, train_Y, test_X, test_Y, num_iterations, learning_rate, nh1, nh2)\n",
        "\n",
        "# Plot the learning curves\n",
        "plt.plot(history['train_loss'], label='Training Loss')\n",
        "plt.plot(history['val_loss'], label='Validation Loss')\n",
        "plt.xlabel('Iterations')\n",
        "plt.ylabel('Loss')\n",
        "plt.legend()\n",
        "plt.show()"
      ],
      "metadata": {
        "colab": {
          "base_uri": "https://localhost:8080/",
          "height": 1000
        },
        "id": "iuTF2lQMQeL7",
        "outputId": "52686f33-a0ac-49b7-f76e-9de884774e0b"
      },
      "execution_count": null,
      "outputs": [
        {
          "output_type": "stream",
          "name": "stdout",
          "text": [
            "iteration 0: train_loss:nan val_loss0.2302568107843399\n",
            "iteration 1: train_loss:nan val_lossnan\n",
            "iteration 2: train_loss:nan val_lossnan\n",
            "iteration 3: train_loss:nan val_lossnan\n",
            "iteration 4: train_loss:nan val_lossnan\n",
            "iteration 5: train_loss:nan val_lossnan\n",
            "iteration 6: train_loss:nan val_lossnan\n",
            "iteration 7: train_loss:nan val_lossnan\n",
            "iteration 8: train_loss:nan val_lossnan\n",
            "iteration 9: train_loss:nan val_lossnan\n",
            "iteration 10: train_loss:nan val_lossnan\n",
            "iteration 11: train_loss:nan val_lossnan\n",
            "iteration 12: train_loss:nan val_lossnan\n",
            "iteration 13: train_loss:nan val_lossnan\n",
            "iteration 14: train_loss:nan val_lossnan\n",
            "iteration 15: train_loss:nan val_lossnan\n",
            "iteration 16: train_loss:nan val_lossnan\n",
            "iteration 17: train_loss:nan val_lossnan\n",
            "iteration 18: train_loss:nan val_lossnan\n",
            "iteration 19: train_loss:nan val_lossnan\n",
            "iteration 20: train_loss:nan val_lossnan\n",
            "iteration 21: train_loss:nan val_lossnan\n",
            "iteration 22: train_loss:nan val_lossnan\n",
            "iteration 23: train_loss:nan val_lossnan\n",
            "iteration 24: train_loss:nan val_lossnan\n",
            "iteration 25: train_loss:nan val_lossnan\n",
            "iteration 26: train_loss:nan val_lossnan\n",
            "iteration 27: train_loss:nan val_lossnan\n",
            "iteration 28: train_loss:nan val_lossnan\n",
            "iteration 29: train_loss:nan val_lossnan\n",
            "iteration 30: train_loss:nan val_lossnan\n",
            "iteration 31: train_loss:nan val_lossnan\n",
            "iteration 32: train_loss:nan val_lossnan\n",
            "iteration 33: train_loss:nan val_lossnan\n",
            "iteration 34: train_loss:nan val_lossnan\n",
            "iteration 35: train_loss:nan val_lossnan\n",
            "iteration 36: train_loss:nan val_lossnan\n",
            "iteration 37: train_loss:nan val_lossnan\n",
            "iteration 38: train_loss:nan val_lossnan\n",
            "iteration 39: train_loss:nan val_lossnan\n",
            "iteration 40: train_loss:nan val_lossnan\n",
            "iteration 41: train_loss:nan val_lossnan\n",
            "iteration 42: train_loss:nan val_lossnan\n",
            "iteration 43: train_loss:nan val_lossnan\n",
            "iteration 44: train_loss:nan val_lossnan\n",
            "iteration 45: train_loss:nan val_lossnan\n",
            "iteration 46: train_loss:nan val_lossnan\n",
            "iteration 47: train_loss:nan val_lossnan\n",
            "iteration 48: train_loss:nan val_lossnan\n",
            "iteration 49: train_loss:nan val_lossnan\n"
          ]
        },
        {
          "output_type": "display_data",
          "data": {
            "text/plain": [
              "<Figure size 640x480 with 1 Axes>"
            ],
            "image/png": "[encoded data removed]"
          },
          "metadata": {}
        }
      ]
    },
    {
      "cell_type": "markdown",
      "source": [
        "Tried different combinations of learning_rate, num_iterations, nh1 and nh1. Below combinations gives better results to this model.\n",
        "\n",
        "* learning_rate = 0.02\n",
        "* num_iterations = 20\n",
        "* nh1 = 128\n",
        "* nh2 = 64"
      ],
      "metadata": {
        "id": "w-e23tKCQeqX"
      }
    },
    {
      "cell_type": "code",
      "source": [
        "# Set hyperparameters\n",
        "learning_rate = 0.02\n",
        "num_iterations = 20\n",
        "nh1 = 128\n",
        "nh2 = 64\n",
        "\n",
        "# Train the model\n",
        "parameters, history = create_nn_model(train_X, train_Y, test_X, test_Y, num_iterations, learning_rate, nh1, nh2)\n",
        "\n",
        "# Plot the learning curves\n",
        "plt.plot(history['train_loss'], label='Training Loss')\n",
        "plt.plot(history['val_loss'], label='Validation Loss')\n",
        "plt.xlabel('Iterations')\n",
        "plt.ylabel('Loss')\n",
        "plt.legend()\n",
        "plt.show()"
      ],
      "metadata": {
        "colab": {
          "base_uri": "https://localhost:8080/",
          "height": 822
        },
        "id": "KcapuY3mZyil",
        "outputId": "9ea6f4c0-c790-4282-9ea7-9c4ffd3b3cdc"
      },
      "execution_count": null,
      "outputs": [
        {
          "output_type": "stream",
          "name": "stdout",
          "text": [
            "iteration 0: train_loss:2.3026506900787354 val_loss2.302661418914795\n",
            "iteration 1: train_loss:2.302647829055786 val_loss2.3026585578918457\n",
            "iteration 2: train_loss:2.3026444911956787 val_loss2.3026561737060547\n",
            "iteration 3: train_loss:2.3026413917541504 val_loss2.3026535511016846\n",
            "iteration 4: train_loss:2.302638530731201 val_loss2.3026514053344727\n",
            "iteration 5: train_loss:2.302635669708252 val_loss2.3026487827301025\n",
            "iteration 6: train_loss:2.3026325702667236 val_loss2.3026461601257324\n",
            "iteration 7: train_loss:2.3026294708251953 val_loss2.3026435375213623\n",
            "iteration 8: train_loss:2.302626371383667 val_loss2.302640914916992\n",
            "iteration 9: train_loss:2.3026232719421387 val_loss2.302638530731201\n",
            "iteration 10: train_loss:2.3026204109191895 val_loss2.302635908126831\n",
            "iteration 11: train_loss:2.302617311477661 val_loss2.302633285522461\n",
            "iteration 12: train_loss:2.302614450454712 val_loss2.302630662918091\n",
            "iteration 13: train_loss:2.3026115894317627 val_loss2.302628517150879\n",
            "iteration 14: train_loss:2.3026084899902344 val_loss2.302625894546509\n",
            "iteration 15: train_loss:2.302605390548706 val_loss2.3026235103607178\n",
            "iteration 16: train_loss:2.3026022911071777 val_loss2.3026211261749268\n",
            "iteration 17: train_loss:2.3025994300842285 val_loss2.3026185035705566\n",
            "iteration 18: train_loss:2.3025965690612793 val_loss2.3026161193847656\n",
            "iteration 19: train_loss:2.30259370803833 val_loss2.3026134967803955\n"
          ]
        },
        {
          "output_type": "display_data",
          "data": {
            "text/plain": [
              "<Figure size 640x480 with 1 Axes>"
            ],
            "image/png": "[encoded data removed]"
          },
          "metadata": {}
        }
      ]
    },
    {
      "cell_type": "markdown",
      "source": [
        
      ],
      "metadata": {
        "id": "FYwuGPTkDAgP"
      }
    },
    {
      "cell_type": "code",
      "source": [
        "# predicting and evaluating the NN model\n",
        "\n",
        "def predict(parameters, X):\n",
        "    Yhat = forward_pass(parameters, X)\n",
        "    predictions = np.argmax(Yhat, axis=0)\n",
        "    return predictions\n",
        "\n",
        "# Use the trained parameters to make predictions on the test set\n",
        "test_predictions = predict(parameters, tf.convert_to_tensor(test_X, dtype=tf.float32))\n",
        "\n",
        "# Compare predicted labels with true labels to calculate test accuracy\n",
        "#correct_predictions = np.sum(test_predictions == test_Y)\n",
        "correct_predictions = np.sum(test_predictions == np.argmax(test_Y, axis=0))\n",
        "total_samples = test_Y.shape[1]\n",
        "test_accuracy = correct_predictions / total_samples * 100\n",
        "print(\"Test Accuracy: {:.1f}%\".format(test_accuracy))\n",
        "\n",
        "# Plot a few images in the test set along with their predicted labels\n",
        "num_images_to_plot = 5\n",
        "random_indices = np.random.choice(test_X.shape[1], num_images_to_plot, replace=False)\n",
        "\n",
        "plt.figure(figsize=(20, 5))\n",
        "for i, idx in enumerate(random_indices, 1):\n",
        "    plt.subplot(1, num_images_to_plot, i)\n",
        "    plt.imshow(test_X[:, idx].reshape(40, 40), cmap='gray')\n",
        "    plt.title(\"True Label: {}\\nPredicted Label: {}\".format(test_Y[:, idx].argmax(), test_predictions[idx]))\n",
        "    plt.axis('off')\n",
        "\n",
        "plt.show()"
      ],
      "metadata": {
        "colab": {
          "base_uri": "https://localhost:8080/",
          "height": 297
        },
        "outputId": "c9f30fd6-6785-43bf-a571-e0ce1d3c7431",
        "id": "r-_0eX5_DSAy"
      },
      "execution_count": null,
      "outputs": [
        {
          "output_type": "stream",
          "name": "stdout",
          "text": [
            "Test Accuracy: 11.2%\n"
          ]
        },
        {
          "output_type": "display_data",
          "data": {
            "text/plain": [
              "<Figure size 2000x500 with 5 Axes>"
            ],
            "image/png": "[encoded data removed]"
          },
          "metadata": {}
        }
      ]
    },
    {
      "cell_type": "code",
      "source": [
        "test_predictions"
      ],
      "metadata": {
        "colab": {
          "base_uri": "https://localhost:8080/"
        },
        "id": "H-GsYGtjqp9l",
        "outputId": "6cf8ee68-1f1d-48c4-da3c-786ffa6f6794"
      },
      "execution_count": null,
      "outputs": [
        {
          "output_type": "execute_result",
          "data": {
            "text/plain": [
              "array([0, 0, 0, 0, 0, 0, 0, 0, 0, 0, 0, 0, 0, 0, 0, 0, 0, 0, 0, 0, 0, 0,\n",
              "       0, 0, 0, 0, 0, 0, 0, 0, 0, 0, 0, 0, 0, 0, 0, 0, 0, 0, 0, 0, 0, 0,\n",
              "       0, 0, 0, 0, 0, 0, 0, 0, 0, 0, 0, 0, 0, 0, 0, 0, 0, 0, 0, 0, 0, 0,\n",
              "       0, 0, 0, 0, 0, 0, 0, 0, 0, 0, 0, 0, 0, 0, 0, 0, 0, 0, 0, 0, 0, 0,\n",
              "       0, 0, 0, 0, 0, 0, 0, 0, 0, 0, 0, 0, 0, 0, 0, 0, 0, 0, 1, 0, 0, 0,\n",
              "       0, 0, 0, 0, 0, 0, 0, 0, 0, 0, 0, 0, 0, 0, 0, 0, 0, 0, 0, 0, 0, 0,\n",
              "       0, 0, 0, 0, 0, 0, 0, 0, 0, 0, 0, 0, 0, 0, 0, 0, 0, 0, 0, 0, 0, 0,\n",
              "       0, 0, 0, 0, 0, 0, 0, 0, 0, 0, 0, 0, 0, 0, 0, 0, 0, 0, 0, 0, 0, 0,\n",
              "       0, 0, 0, 0, 0, 0, 0, 0, 0, 0, 0, 0, 0, 0, 0, 0, 0, 0, 0, 0, 0, 0,\n",
              "       0, 0, 0, 0, 0, 0, 0, 0, 0, 0, 0, 0, 0, 0, 0, 0, 0, 0, 0, 0, 0, 0,\n",
              "       0, 0, 0, 0, 0, 0, 0, 0, 0, 0, 0, 0, 0, 0, 0, 0, 0, 0, 0, 0, 0, 0,\n",
              "       0, 0, 0, 0, 0, 0, 0, 0, 0, 0, 0, 0, 0, 0, 0, 0, 0, 0, 0, 0, 0, 0,\n",
              "       0, 0, 0, 0, 0, 0, 0, 0, 0, 0, 0, 0, 0, 0, 0, 0, 7, 0, 0, 0, 0, 0,\n",
              "       0, 0, 0, 7, 0, 0, 0, 0, 0, 0, 0, 0, 0, 0, 0, 0, 0, 0, 0, 0, 0, 0,\n",
              "       0, 0, 0, 0, 0, 0, 0, 0, 0, 0, 0, 0, 0, 0, 0, 0, 0, 0, 0, 0, 0, 0,\n",
              "       0, 0, 0, 0, 0, 0, 0, 0, 0, 0, 0, 0, 0, 0, 0, 0, 0, 0, 0, 0, 0, 0,\n",
              "       0, 0, 0, 0, 0, 0, 0, 0, 0, 0, 0, 0, 0, 0, 0, 0, 0, 0, 0, 0, 0, 0,\n",
              "       0, 0, 0, 7, 0, 0, 0, 0, 0, 0, 0, 0, 0, 0, 0, 0, 0, 0, 0, 0, 0, 0,\n",
              "       0, 0, 0, 0, 0, 0, 0, 0, 0, 0, 0, 0, 0, 0, 0, 0, 0, 0, 0, 0, 0, 0,\n",
              "       0, 0, 0, 0, 0, 0, 0, 0, 0, 0, 0, 0, 0, 0, 0, 0, 0, 0, 0, 0, 0, 0,\n",
              "       0, 0, 0, 0, 0, 0, 0, 0, 0, 0, 0, 0, 0, 0, 0, 0, 0, 0, 0, 0, 0, 0,\n",
              "       0, 0, 0, 0, 0, 0, 0, 0, 0, 0, 0, 0, 0, 0, 0, 0, 0, 0, 0, 0, 0, 0,\n",
              "       0, 0, 0, 0, 0, 0, 0, 0, 0, 0, 0, 0, 0, 0, 0, 0, 0, 0, 0, 0, 0, 0,\n",
              "       0, 0, 0, 0, 0, 0, 0, 0, 0, 0, 0, 0, 0, 8, 0, 0, 0, 0, 0, 0, 0, 0,\n",
              "       0, 0, 0, 0, 0, 0, 0, 0, 0, 0, 0, 0, 0, 0, 0, 0, 0, 0, 0, 0, 0, 0,\n",
              "       0, 0, 0, 0, 0, 0, 0, 0, 0, 0, 0, 0, 0, 0, 0, 0, 0, 0, 0, 0, 1, 0,\n",
              "       0, 0, 0, 0, 0, 0, 0, 0, 0, 0, 0, 0, 0, 0, 0, 0, 0, 0, 0, 0, 0, 0,\n",
              "       0, 0, 0, 0, 0, 0, 0, 0, 0, 0, 0, 0, 0, 0, 0, 0, 0, 0, 0, 0, 0, 0,\n",
              "       0, 0, 0, 7, 0, 0, 0, 0, 0, 0, 0, 0, 1, 0, 0, 0, 0, 0, 0, 0, 0, 0,\n",
              "       0, 0, 0, 0, 0, 0, 0, 0, 0, 0, 0, 7, 0, 0, 0, 0, 0, 0, 0, 0, 0, 0,\n",
              "       0, 0, 0, 0, 0, 0, 0, 7, 0, 0, 0, 0, 0, 0, 0, 0, 0, 0, 0, 0, 0, 0,\n",
              "       0, 0, 0, 0, 0, 0, 0, 0, 0, 0, 0, 0, 0, 0, 0, 0, 0, 0, 0, 0, 0, 0,\n",
              "       0, 0, 0, 0, 0, 0, 0, 0, 0, 0, 0, 0, 0, 0, 0, 0, 0, 0, 0, 0, 0, 0,\n",
              "       0, 0, 0, 0, 0, 0, 0, 0, 0, 0, 0, 0, 0, 0, 0, 0, 0, 0, 0, 0, 0, 0,\n",
              "       0, 0, 0, 0, 0, 0, 0, 0, 0, 0, 0, 0, 0, 0, 0, 0, 0, 0, 0, 0, 0, 0,\n",
              "       0, 0, 0, 0, 0, 0, 0, 0, 0, 0, 0, 0, 0, 0, 0, 0, 0, 0, 0, 0, 0, 0,\n",
              "       0, 0, 0, 0, 0, 0, 0, 0, 0, 0, 0, 1, 0, 0, 0, 0, 0, 0, 0, 0, 0, 0,\n",
              "       0, 0, 0, 0, 0, 0, 0, 0, 0, 0, 0, 0, 0, 0, 0, 0, 0, 0, 0, 0, 0, 0,\n",
              "       0, 0, 0, 0, 0, 0, 0, 0, 0, 0, 0, 0, 0, 0, 0, 0, 0, 0, 0, 0, 0, 0,\n",
              "       0, 0, 0, 0, 0, 0, 0, 0, 0, 0, 0, 0, 0, 0, 0, 0, 0, 0, 0, 0, 0, 0,\n",
              "       0, 0, 0, 0, 0, 0])"
            ]
          },
          "metadata": {},
          "execution_count": 34
        }
      ]
    },
    {
      "cell_type": "markdown",
      "source": [
        "Here is another method we can create a similar model using Keras.\n",
        "\n",
        "**Method 2**"
      ],
      "metadata": {
        "id": "lP40itw7DTt_"
      }
    },
    {
      "cell_type": "code",
      "source": [
        "\n",
        "import tensorflow as tf\n",
        "from sklearn.model_selection import train_test_split\n",
        "import matplotlib.pyplot as plt\n",
        "import numpy as np\n",
        "import pandas as pd\n",
        "\n",
        "\n",
        "# Extract data\n",
        "data = pd.read_csv(\"German_digits.csv\")\n",
        "X = data.iloc[:, :-1].values / 255.0  # Scale pixel values to [0, 1]\n",
        "Y = data.iloc[:, -1].values\n",
        "\n",
        "# Split data into training and testing sets\n",
        "train_X, test_X, train_Y, test_Y = train_test_split(X, Y, test_size=0.2, random_state=42)\n",
        "\n",
        "# One-hot encode labels\n",
        "num_classes = 10\n",
        "train_Y = tf.keras.utils.to_categorical(train_Y, num_classes)\n",
        "test_Y = tf.keras.utils.to_categorical(test_Y, num_classes)\n",
        "\n",
        "# Define the model\n",
        "model = tf.keras.Sequential([\n",
        "    tf.keras.layers.Flatten(input_shape=(1600,)),  # Keep input shape as (64, 64) for flattened images\n",
        "    tf.keras.layers.Dense(128, activation=\"relu\"),\n",
        "    tf.keras.layers.Dense(64, activation=\"relu\"),\n",
        "    tf.keras.layers.Dense(num_classes, activation=\"softmax\")\n",
        "])\n",
        "\n",
        "# Compile the model\n",
        "model.compile(loss=\"categorical_crossentropy\", optimizer=\"adam\", metrics=[\"accuracy\"])\n",
        "\n",
        "# Train the model\n",
        "history = model.fit(train_X, train_Y, epochs=20, validation_data=(test_X, test_Y))\n",
        "\n",
        "# Evaluate the model on the test set\n",
        "test_loss, test_acc = model.evaluate(test_X, test_Y)\n",
        "print(\"Test Accuracy: {:.2f}%\".format(test_acc))\n",
        "\n",
        "# Make predictions on the test set\n",
        "predictions = model.predict(test_X)\n",
        "predicted_classes = np.argmax(predictions, axis=1)\n",
        "\n",
        "# Visualize some predictions (optional)\n",
        "num_images_to_plot = 5\n",
        "random_indices = np.random.choice(test_X.shape[0], num_images_to_plot, replace=False)\n",
        "\n",
        "plt.figure(figsize=(10, 5))\n",
        "for i, idx in enumerate(random_indices):\n",
        "    plt.subplot(1, num_images_to_plot, i + 1)\n",
        "    plt.imshow(test_X[idx].reshape(40, 40), cmap=\"gray\")\n",
        "    plt.title(f\"True: {test_Y[idx].argmax()} - Predicted: {predicted_classes[idx]}\")\n",
        "    plt.axis(\"off\")\n",
        "\n",
        "plt.tight_layout()\n",
        "plt.show()"
      ],
      "metadata": {
        "colab": {
          "base_uri": "https://localhost:8080/",
          "height": 1000
        },
        "id": "LXGjk51vHGst",
        "outputId": "df7b8e95-cd30-4825-f313-c7df3ceaa5a2"
      },
      "execution_count": null,
      "outputs": [
        {
          "output_type": "stream",
          "name": "stdout",
          "text": [
            "Epoch 1/20\n",
            "111/111 [==============================] - 4s 15ms/step - loss: 0.9017 - accuracy: 0.7305 - val_loss: 0.4381 - val_accuracy: 0.8781\n",
            "Epoch 2/20\n",
            "111/111 [==============================] - 1s 11ms/step - loss: 0.3501 - accuracy: 0.9028 - val_loss: 0.3347 - val_accuracy: 0.9007\n",
            "Epoch 3/20\n",
            "111/111 [==============================] - 1s 11ms/step - loss: 0.2159 - accuracy: 0.9427 - val_loss: 0.3110 - val_accuracy: 0.9176\n",
            "Epoch 4/20\n",
            "111/111 [==============================] - 1s 11ms/step - loss: 0.1386 - accuracy: 0.9644 - val_loss: 0.2863 - val_accuracy: 0.9233\n",
            "Epoch 5/20\n",
            "111/111 [==============================] - 1s 10ms/step - loss: 0.0863 - accuracy: 0.9799 - val_loss: 0.2558 - val_accuracy: 0.9233\n",
            "Epoch 6/20\n",
            "111/111 [==============================] - 1s 11ms/step - loss: 0.0479 - accuracy: 0.9901 - val_loss: 0.2725 - val_accuracy: 0.9266\n",
            "Epoch 7/20\n",
            "111/111 [==============================] - 1s 10ms/step - loss: 0.0321 - accuracy: 0.9946 - val_loss: 0.2734 - val_accuracy: 0.9255\n",
            "Epoch 8/20\n",
            "111/111 [==============================] - 2s 16ms/step - loss: 0.0197 - accuracy: 0.9983 - val_loss: 0.2595 - val_accuracy: 0.9289\n",
            "Epoch 9/20\n",
            "111/111 [==============================] - 2s 16ms/step - loss: 0.0105 - accuracy: 0.9997 - val_loss: 0.2627 - val_accuracy: 0.9334\n",
            "Epoch 10/20\n",
            "111/111 [==============================] - 1s 13ms/step - loss: 0.0067 - accuracy: 1.0000 - val_loss: 0.2660 - val_accuracy: 0.9323\n",
            "Epoch 11/20\n",
            "111/111 [==============================] - 1s 11ms/step - loss: 0.0051 - accuracy: 1.0000 - val_loss: 0.2749 - val_accuracy: 0.9312\n",
            "Epoch 12/20\n",
            "111/111 [==============================] - 1s 7ms/step - loss: 0.0035 - accuracy: 1.0000 - val_loss: 0.2764 - val_accuracy: 0.9345\n",
            "Epoch 13/20\n",
            "111/111 [==============================] - 1s 9ms/step - loss: 0.0027 - accuracy: 1.0000 - val_loss: 0.2836 - val_accuracy: 0.9323\n",
            "Epoch 14/20\n",
            "111/111 [==============================] - 1s 10ms/step - loss: 0.0023 - accuracy: 1.0000 - val_loss: 0.2863 - val_accuracy: 0.9323\n",
            "Epoch 15/20\n",
            "111/111 [==============================] - 1s 6ms/step - loss: 0.0019 - accuracy: 1.0000 - val_loss: 0.2876 - val_accuracy: 0.9357\n",
            "Epoch 16/20\n",
            "111/111 [==============================] - 1s 5ms/step - loss: 0.0017 - accuracy: 1.0000 - val_loss: 0.2910 - val_accuracy: 0.9345\n",
            "Epoch 17/20\n",
            "111/111 [==============================] - 1s 5ms/step - loss: 0.0014 - accuracy: 1.0000 - val_loss: 0.2939 - val_accuracy: 0.9334\n",
            "Epoch 18/20\n",
            "111/111 [==============================] - 1s 5ms/step - loss: 0.0012 - accuracy: 1.0000 - val_loss: 0.2985 - val_accuracy: 0.9357\n",
            "Epoch 19/20\n",
            "111/111 [==============================] - 1s 5ms/step - loss: 0.0011 - accuracy: 1.0000 - val_loss: 0.3005 - val_accuracy: 0.9379\n",
            "Epoch 20/20\n",
            "111/111 [==============================] - 1s 5ms/step - loss: 9.5673e-04 - accuracy: 1.0000 - val_loss: 0.3027 - val_accuracy: 0.9368\n",
            "28/28 [==============================] - 0s 2ms/step - loss: 0.3027 - accuracy: 0.9368\n",
            "Test Accuracy: 0.94%\n",
            "28/28 [==============================] - 0s 2ms/step\n"
          ]
        },
        {
          "output_type": "display_data",
          "data": {
            "text/plain": [
              "<Figure size 1000x500 with 5 Axes>"
            ],
            "image/png": "[encoded data removed]"
          },
          "metadata": {}
        }
      ]
    }
  ]
}
